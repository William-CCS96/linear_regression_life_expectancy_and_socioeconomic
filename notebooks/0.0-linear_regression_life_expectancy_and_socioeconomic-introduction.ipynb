{
 "cells": [
  {
   "cell_type": "markdown",
   "metadata": {},
   "source": [
    "<div style=\"display: flex; justify-content: center;\">\n",
    "    <img src=\"../images/Logo-persona_fondo-blanco.jpg\" alt=\"Logo_personal\" /> \n",
    "</div>\n",
    "<p align=\"center\">\n",
    "  <h1 align=\"center\">Descriptive Statistics<h1>\n",
    "  <h4 align=\"center\">Obesity rates dataset</h4>\n",
    "</p>\n",
    "\n",
    "---\n",
    "\n",
    "## Introduction\n",
    "This notebook is the result of the practice carried out in the course [\"Curso de Matemáticas para Data Science: Estadística Descriptiva\"](https://platzi.com/cursos/estadistica-descriptiva/), where the Dataset \"ObesityDataSet_raw_and_data_synthetic\" was used evaluates obesity rates in individuals from Colombia, Peru and Mexico.\n",
    "\n",
    "The purpose of the project is to put into practice the concepts of descriptive statistics focused on data science, through the following workflow:\n",
    "\n",
    "- Development\n",
    "  - Data types and description\n",
    "  - Null Data Review\n",
    "- Statistical analysis\n",
    "  - Measures of central tendency\n",
    "  - Measures of dispersion\n",
    "- Measures of dispersion\n",
    "  - Standard deviation:\n",
    "  - Range and quartiles\n",
    "- Outlier detection\n",
    "- Linear scaling of numerical variables\n",
    "  - Linear scaling min-max\n",
    "  - Z-score scaling\n",
    "- Nonlinear scaling of numerical variables\n",
    "- Scaling of categorical variables\n",
    "  - One-hot scaling\n",
    "  - One-hot with Scikit learn\n",
    "  - One-hot with pandas \"dummies\" method\n",
    "\n",
    "For more information share the notes in Notion of the course with more functions [View site ](https://aluminum-carbon-41d.notion.site/C-Matem-ticas-para-DS-Estad-stica-Descriptiva-174aa85e176e446eb82e00618f5877ff?pvs=4)\n",
    "\n",
    "## Data\n",
    "The Data set [\"ObesityDataSet_raw_and_data_synthetic\"](https://www.kaggle.com/datasets/ankurbajaj9/obesity-levels/code) of kaggel contains indices of obesity based on eating habits & physical cond\n",
    "\n",
    "**Columns**\n",
    "\n",
    "*Feeding Habits*\n",
    "\n",
    "* Frequent consumption of high-calorie foods (FAVC)\n",
    "* Frequency of consumption of vegetables (FCVC)\n",
    "* Number of main meals (NCP)\n",
    "* Consumption of food between meals (CAEC)\n",
    "* Daily water consumption (CH20)\n",
    "* Alcohol consumption (CALC).\n",
    "\n",
    "*Physical condition*\n",
    "* Monitoring calorie consumption (SCC),\n",
    "* Frequency of physical activity (FAF),\n",
    "* Time using technological devices (TUE),\n",
    "* Transportation used (MTRANS),\n",
    "\n",
    "___\n"
   ]
  },
  {
   "cell_type": "code",
   "execution_count": null,
   "metadata": {},
   "outputs": [],
   "source": []
  }
 ],
 "metadata": {
  "kernelspec": {
   "display_name": "cookiecutter-personal",
   "language": "python",
   "name": "python3"
  },
  "language_info": {
   "codemirror_mode": {
    "name": "ipython",
    "version": 3
   },
   "file_extension": ".py",
   "mimetype": "text/x-python",
   "name": "python",
   "nbconvert_exporter": "python",
   "pygments_lexer": "ipython3",
   "version": "3.11.4"
  },
  "orig_nbformat": 4
 },
 "nbformat": 4,
 "nbformat_minor": 2
}
